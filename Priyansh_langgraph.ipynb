{
 "cells": [
  {
   "cell_type": "markdown",
   "id": "b7a9413a",
   "metadata": {},
   "source": [
    "# STEP 0: Install dependencies"
   ]
  },
  {
   "cell_type": "code",
   "execution_count": 1,
   "id": "34221754",
   "metadata": {},
   "outputs": [],
   "source": [
    "!pip install -qU google-generativeai==0.8.5 google-ai-generativelanguage==0.6.15 \\\n",
    "langgraph langchain langchain-google-genai openai\n"
   ]
  },
  {
   "cell_type": "markdown",
   "id": "2767cf9d",
   "metadata": {},
   "source": [
    "# STEP 1: Imports and secure API key input"
   ]
  },
  {
   "cell_type": "code",
   "execution_count": 2,
   "id": "321141cf",
   "metadata": {},
   "outputs": [],
   "source": [
    "import os\n",
    "import getpass\n",
    "from langgraph.graph import StateGraph, END\n",
    "from langchain_google_genai import ChatGoogleGenerativeAI"
   ]
  },
  {
   "cell_type": "code",
   "execution_count": 3,
   "id": "083da9be",
   "metadata": {},
   "outputs": [],
   "source": [
    "from langchain_core.messages import HumanMessage"
   ]
  },
  {
   "cell_type": "markdown",
   "id": "8a3f7dcc",
   "metadata": {},
   "source": [
    "# Secure Gemini API Key input"
   ]
  },
  {
   "cell_type": "markdown",
   "id": "58407eb4",
   "metadata": {},
   "source": [
    "# STEP 2: Initialize Gemini 1.5 Flash"
   ]
  },
  {
   "cell_type": "markdown",
   "id": "1727b998",
   "metadata": {},
   "source": [
    "# STEP 3: Node to ask user for symptom"
   ]
  },
  {
   "cell_type": "markdown",
   "id": "0226fd3a",
   "metadata": {},
   "source": [
    "# STEP 4: Node to classify the symptom"
   ]
  },
  {
   "cell_type": "markdown",
   "id": "6eba7eb5",
   "metadata": {},
   "source": [
    "# STEP 5: Router logic to route to the correct node\n"
   ]
  },
  {
   "cell_type": "markdown",
   "id": "0806b97b",
   "metadata": {},
   "source": [
    "# STEP 6: Category-specific response nodes\n"
   ]
  }
 ],
 "metadata": {
  "kernelspec": {
   "display_name": ".venv",
   "language": "python",
   "name": "python3"
  },
  "language_info": {
   "codemirror_mode": {
    "name": "ipython",
    "version": 3
   },
   "file_extension": ".py",
   "mimetype": "text/x-python",
   "name": "python",
   "nbconvert_exporter": "python",
   "pygments_lexer": "ipython3",
   "version": "3.13.1"
  }
 },
 "nbformat": 4,
 "nbformat_minor": 5
}
