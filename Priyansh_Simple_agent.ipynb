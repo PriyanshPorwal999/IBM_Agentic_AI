{
  "cells": [
    {
      "cell_type": "markdown",
      "metadata": {
        "id": "pmqDc2m9G51t"
      },
      "source": [
        "Step 1: Install required packages"
      ]
    },
    {
      "cell_type": "code",
      "execution_count": 1,
      "metadata": {
        "id": "difhhu1QgujP"
      },
      "outputs": [
        {
          "name": "stderr",
          "output_type": "stream",
          "text": [
            "ERROR: pip's dependency resolver does not currently take into account all the packages that are installed. This behaviour is the source of the following dependency conflicts.\n",
            "mediapipe 0.10.21 requires protobuf<5,>=4.25.3, but you have protobuf 5.29.5 which is incompatible.\n",
            "\n",
            "Usage:   \n",
            "  pip install [options] <requirement specifier> [package-index-options] ...\n",
            "  pip install [options] -r <requirements file> [package-index-options] ...\n",
            "  pip install [options] [-e] <vcs project url> ...\n",
            "  pip install [options] [-e] <local project path> ...\n",
            "  pip install [options] <archive url/path> ...\n",
            "\n",
            "no such option: --quiet.\n"
          ]
        }
      ],
      "source": [
        "!pip install google-generativeai --quiet\n",
        "!pip install ipywidgets --quiet. #create a beautiful UI"
      ]
    },
    {
      "cell_type": "markdown",
      "metadata": {
        "id": "xF6xdxMRG_nv"
      },
      "source": [
        "Step 2: Import libraries"
      ]
    },
    {
      "cell_type": "code",
      "execution_count": 2,
      "metadata": {
        "id": "MtY0ivLnhPUB"
      },
      "outputs": [],
      "source": [
        "import google.generativeai as genai\n",
        "import ipywidgets as widgets\n",
        "from IPython.display import display, Markdown"
      ]
    },
    {
      "cell_type": "markdown",
      "metadata": {
        "id": "O_ASCfqbHCCx"
      },
      "source": [
        "Step 3: Set up Gemini API"
      ]
    },
    {
      "cell_type": "code",
      "execution_count": null,
      "metadata": {
        "id": "EB2ccmgKhQje"
      },
      "outputs": [],
      "source": [
        "API_KEY = \"\"\n",
        "genai.configure(api_key=API_KEY)\n",
        "model = genai.GenerativeModel(\"gemini-2.5-flash\")"
      ]
    },
    {
      "cell_type": "markdown",
      "metadata": {
        "id": "6U4nkTanHF0M"
      },
      "source": [
        "Step 4: Define the input form"
      ]
    },
    {
      "cell_type": "code",
      "execution_count": null,
      "metadata": {
        "id": "rDUPsNVai0Zz"
      },
      "outputs": [],
      "source": [
        "topic_input = widgets.Text(\n",
        "    description = \"Topic\",\n",
        "    layout = widgets.Layout(width = '400px'),\n",
        ")\n",
        "\n",
        "tone_input = widgets.Dropdown(\n",
        "    description = \"Tone\",\n",
        "    options = ['Professional', 'casual', 'Motivational', 'Informative'],\n",
        "    layout = widgets.Layout(width = '400px'),\n",
        ")\n",
        "\n",
        "audience_input = widgets.Text(\n",
        "    description = \"Audience\",\n",
        "    layout = widgets.Layout(width = '400px'),\n",
        ")\n",
        "\n",
        "hashtag_input = widgets.Text(\n",
        "    description = \"Hastag\",\n",
        "    layout = widgets.Layout(width = '400px'),\n",
        ")\n",
        "\n",
        "submit_button = widgets.Button(\n",
        "    description = \"Generate Tweet\",\n",
        "    button_style = \"success\",\n",
        "    tooltip = \"click to generate tweet\",\n",
        "    layout = widgets.Layout(width = '400px'),\n",
        ")\n",
        "\n",
        "output = widgets.Output()\n"
      ]
    },
    {
      "cell_type": "markdown",
      "metadata": {
        "id": "J4m4aGgSHIOm"
      },
      "source": [
        "Step 5: Generate Tweet Function"
      ]
    },
    {
      "cell_type": "code",
      "execution_count": null,
      "metadata": {
        "colab": {
          "base_uri": "https://localhost:8080/",
          "height": 106
        },
        "id": "JM_97w7mlUoz",
        "outputId": "9364f069-8b09-49b0-ab95-172e2f274225"
      },
      "outputs": [
        {
          "ename": "IndentationError",
          "evalue": "unindent does not match any outer indentation level (<tokenize>, line 19)",
          "output_type": "error",
          "traceback": [
            "\u001b[0;36m  File \u001b[0;32m\"<tokenize>\"\u001b[0;36m, line \u001b[0;32m19\u001b[0m\n\u001b[0;31m    except Exception as e:\u001b[0m\n\u001b[0m    ^\u001b[0m\n\u001b[0;31mIndentationError\u001b[0m\u001b[0;31m:\u001b[0m unindent does not match any outer indentation level\n"
          ]
        }
      ],
      "source": [
        "def generate_tweet(b):\n",
        "  output.clear_output()\n",
        "  prompt = f\"\"\"\n",
        "  You are an expert content writer\n",
        "  generate a tweet about the topic \"{topic_input.value}\".\n",
        "  use a tone \"{tone_input.value}\"\n",
        "  Include the hastags \"{hashtag_input.value}\"\n",
        "  keep it under 280 characters\n",
        "  \"\"\"\n",
        "\n",
        "  with output:\n",
        "    try:\n",
        "      response = model.generate_content(prompt)\n",
        "      tweet = response.text.strip()\n",
        "      # display(Markdown)\n",
        "      display(Markdown(f\"### Generated Tweet : \\n\\n {tweet} \"))\n",
        "\n",
        "\n",
        "   except Exception as e:\n",
        "    print(\"Error\", e)\n",
        "\n"
      ]
    },
    {
      "cell_type": "code",
      "execution_count": null,
      "metadata": {
        "id": "_-9Ib7f5psjf"
      },
      "outputs": [],
      "source": [
        "def generate_tweet(b):\n",
        "  output.clear_output()\n",
        "  prompt = f\"\"\"\n",
        "  You are an expert Content Writer\n",
        "  generate a tweet about the topic \"{topic_input.value}\".\n",
        "  use a tone {tone_input.value}.\n",
        "  generate tweet for audience {audience_input.value}.\n",
        "  Include the hashtags {hastag_input.value}.\n",
        "  Keep it under 280 characters\n",
        "  \"\"\"\n",
        "  with output:\n",
        "    try:\n",
        "      response = model.generate_content(prompt)\n",
        "      tweet = response.text.strip()\n",
        "      display(Markdown(f\"### Generated Tweet : \\n\\n {tweet} \"))\n",
        "    except Exception as e:\n",
        "      print(\"Error\", e)\n",
        "\n",
        "\n",
        "submit_button.on_click(generate_tweet)\n",
        "\n"
      ]
    },
    {
      "cell_type": "markdown",
      "metadata": {
        "id": "pRaayOW-HSWY"
      },
      "source": [
        "Step 6: Display the form"
      ]
    },
    {
      "cell_type": "code",
      "execution_count": null,
      "metadata": {
        "id": "ua9ibnZZtXtj"
      },
      "outputs": [],
      "source": []
    },
    {
      "cell_type": "code",
      "execution_count": null,
      "metadata": {
        "colab": {
          "base_uri": "https://localhost:8080/"
        },
        "id": "oQ3MR_rCgBU9",
        "outputId": "4656609e-f2e5-4e2c-b581-0530996a4e52"
      },
      "outputs": [
        {
          "name": "stdout",
          "output_type": "stream",
          "text": [
            "\n",
            "Usage:   \n",
            "  pip3 install [options] <requirement specifier> [package-index-options] ...\n",
            "  pip3 install [options] -r <requirements file> [package-index-options] ...\n",
            "  pip3 install [options] [-e] <vcs project url> ...\n",
            "  pip3 install [options] [-e] <local project path> ...\n",
            "  pip3 install [options] <archive url/path> ...\n",
            "\n",
            "no such option: --quiet.\n"
          ]
        }
      ],
      "source": []
    },
    {
      "cell_type": "code",
      "execution_count": null,
      "metadata": {
        "id": "hzmfB2TPti7m"
      },
      "outputs": [],
      "source": [
        "import google.generativeai as genai\n",
        "import ipywidgets as widgets\n",
        "from IPython.display import display, Markdown"
      ]
    },
    {
      "cell_type": "code",
      "execution_count": null,
      "metadata": {
        "id": "g7tiZBfktmMF"
      },
      "outputs": [],
      "source": [
        "API_KEY = \"\"\n",
        "genai.configure(api_key = API_KEY)\n",
        "model = genai.GenerativeModel(\"gemini-2.5-flash\")"
      ]
    },
    {
      "cell_type": "code",
      "execution_count": null,
      "metadata": {
        "id": "pXX9RB5DtpeJ"
      },
      "outputs": [],
      "source": [
        "topic_input = widgets.Text(\n",
        "    description = \"Topic\",\n",
        "    layout = widgets.Layout(width = '400px')\n",
        ")\n",
        "\n",
        "tone_input = widgets.Dropdown(\n",
        "    description = \"Tone\",\n",
        "    options = ['Professional', 'Casual', 'Motivational', 'Informative'],\n",
        "    layout = widgets.Layout(width = '400px')\n",
        ")\n",
        "\n",
        "audience_input = widgets.Text(\n",
        "    description = \"Audience\",\n",
        "    layout = widgets.Layout(width = '400px')\n",
        ")\n",
        "\n",
        "\n",
        "hashtag_input = widgets.Text(\n",
        "    description = \"Hashtags\",\n",
        "    layout = widgets.Layout(width = '400px')\n",
        ")\n",
        "\n",
        "submit_button = widgets.Button(\n",
        "    description = \"Generate Tweet\",\n",
        "    button_style = 'Success',\n",
        "    tooltip = 'click to generate tweet',\n",
        "    layout = widgets.Layout(width = '400px')\n",
        ")\n",
        "\n",
        "output = widgets.Output()"
      ]
    },
    {
      "cell_type": "code",
      "execution_count": null,
      "metadata": {
        "id": "vfmxDLwhts1t"
      },
      "outputs": [],
      "source": [
        "def generate_tweet(b):\n",
        "  output.clear_output()\n",
        "  prompt = f\"\"\"\n",
        "  You are an expert Content Writer\n",
        "  generate a tweet about the topic \"{topic_input.value}\".\n",
        "  use a tone {tone_input.value}.\n",
        "  generate tweet for audience {audience_input.value}.\n",
        "  Include the hashtags {hastag_input.value}.\n",
        "  Keep it under 280 characters\n",
        "  \"\"\"\n",
        "  with output:\n",
        "    try:\n",
        "      response = model.generate_content(prompt)\n",
        "      tweet = response.text.strip()\n",
        "      display(Markdown(f\"### Generated Tweet : \\n\\n {tweet} \"))\n",
        "    except Exception as e:\n",
        "      print(\"Error\", e)\n",
        "\n",
        "\n",
        "submit_button.on_click(generate_tweet)\n"
      ]
    },
    {
      "cell_type": "code",
      "execution_count": null,
      "metadata": {
        "id": "E8VTY9aXtwWn"
      },
      "outputs": [],
      "source": [
        "form = widgets.VBox([\n",
        "    widgets.HTML(value=\"<h3>📝 Tweet Generator Agent</h3>\"),\n",
        "    topic_input,\n",
        "    tone_input,\n",
        "    audience_input,\n",
        "    hashtag_input,\n",
        "    submit_button,\n",
        "    output\n",
        "])\n",
        "\n",
        "display(form)"
      ]
    },
    {
      "cell_type": "code",
      "execution_count": null,
      "metadata": {
        "colab": {
          "base_uri": "https://localhost:8080/",
          "height": 312,
          "referenced_widgets": [
            "75bdcbfce0da4b568c009ed66aa5c76c",
            "4fedf2ea374a4854bc08fb57f154e051",
            "39e7ac1e46f04c6e8b9d922a2a08f175",
            "01d2435959d847a08dd85781ba396870",
            "c2e9dacaa5ca4c6288d45b541cb0b6e8",
            "9d42d49210f04756b77e543b71e718a9",
            "115bfaa6736045f487b7a11ca2c3ec38",
            "630ed26c844841a393ece1cdc508de87",
            "adaf7c43c356491cac7c94d0f4fd19f4",
            "f2d4d76068dc4d2caea1fa83b3ffe5da",
            "48f7d523e6ab430da01041df0d609b68",
            "319e0ef319a44f6bab7e53ed59c9a1cd",
            "1d1754a8f1774934aac839227fdb43ce",
            "ac2990a08ff44518bbe8d0a891d32397",
            "9d23588fae534e09a922ffd1d6871561",
            "0568a2af196d4f558e2c4b97fbac8130",
            "f6ed67321b104eb4a24210e090a81b3f",
            "1f2ab63fc24143268f72a4932d1eaaf1",
            "d13944f19c9741c483e4e5862dd8aeeb",
            "520c2036dc274619927a769dfd97aa3a",
            "333ba746531043f891e32b7bbebe0cbb",
            "4ad8f6942b2549228d2043e124c0f98b"
          ]
        },
        "id": "ceit8-3CnrP4",
        "outputId": "81439092-aff5-41b9-ccda-98340352eace"
      },
      "outputs": [
        {
          "data": {
            "application/vnd.jupyter.widget-view+json": {
              "model_id": "75bdcbfce0da4b568c009ed66aa5c76c",
              "version_major": 2,
              "version_minor": 0
            },
            "text/plain": [
              "VBox(children=(HTML(value='<h3>📝 Tweet Generator Agent</h3>'), Text(value='', description='Topic', layout=Layo…"
            ]
          },
          "metadata": {},
          "output_type": "display_data"
        }
      ],
      "source": [
        "form = widgets.VBox([\n",
        "    widgets.HTML(value=\"<h3>📝 Tweet Generator Agent</h3>\"),\n",
        "    topic_input,\n",
        "    tone_input,\n",
        "    audience_input,\n",
        "    hashtag_input,\n",
        "    submit_button,\n",
        "    output\n",
        "])\n",
        "\n",
        "display(form)"
      ]
    }
  ],
  "metadata": {
    "colab": {
      "provenance": [],
      "toc_visible": true
    },
    "kernelspec": {
      "display_name": "base",
      "language": "python",
      "name": "python3"
    },
    "language_info": {
      "name": "python",
      "version": "3.12.3"
    },
    "widgets": {
      "application/vnd.jupyter.widget-state+json": {
        "01d2435959d847a08dd85781ba396870": {
          "model_module": "@jupyter-widgets/controls",
          "model_module_version": "1.5.0",
          "model_name": "DropdownModel",
          "state": {
            "_dom_classes": [],
            "_model_module": "@jupyter-widgets/controls",
            "_model_module_version": "1.5.0",
            "_model_name": "DropdownModel",
            "_options_labels": [
              "Professional",
              "casual",
              "Motivational",
              "Informative"
            ],
            "_view_count": null,
            "_view_module": "@jupyter-widgets/controls",
            "_view_module_version": "1.5.0",
            "_view_name": "DropdownView",
            "description": "Tone",
            "description_tooltip": null,
            "disabled": false,
            "index": 0,
            "layout": "IPY_MODEL_ac2990a08ff44518bbe8d0a891d32397",
            "style": "IPY_MODEL_9d23588fae534e09a922ffd1d6871561"
          }
        },
        "0568a2af196d4f558e2c4b97fbac8130": {
          "model_module": "@jupyter-widgets/base",
          "model_module_version": "1.2.0",
          "model_name": "LayoutModel",
          "state": {
            "_model_module": "@jupyter-widgets/base",
            "_model_module_version": "1.2.0",
            "_model_name": "LayoutModel",
            "_view_count": null,
            "_view_module": "@jupyter-widgets/base",
            "_view_module_version": "1.2.0",
            "_view_name": "LayoutView",
            "align_content": null,
            "align_items": null,
            "align_self": null,
            "border": null,
            "bottom": null,
            "display": null,
            "flex": null,
            "flex_flow": null,
            "grid_area": null,
            "grid_auto_columns": null,
            "grid_auto_flow": null,
            "grid_auto_rows": null,
            "grid_column": null,
            "grid_gap": null,
            "grid_row": null,
            "grid_template_areas": null,
            "grid_template_columns": null,
            "grid_template_rows": null,
            "height": null,
            "justify_content": null,
            "justify_items": null,
            "left": null,
            "margin": null,
            "max_height": null,
            "max_width": null,
            "min_height": null,
            "min_width": null,
            "object_fit": null,
            "object_position": null,
            "order": null,
            "overflow": null,
            "overflow_x": null,
            "overflow_y": null,
            "padding": null,
            "right": null,
            "top": null,
            "visibility": null,
            "width": "400px"
          }
        },
        "115bfaa6736045f487b7a11ca2c3ec38": {
          "model_module": "@jupyter-widgets/controls",
          "model_module_version": "1.5.0",
          "model_name": "ButtonModel",
          "state": {
            "_dom_classes": [],
            "_model_module": "@jupyter-widgets/controls",
            "_model_module_version": "1.5.0",
            "_model_name": "ButtonModel",
            "_view_count": null,
            "_view_module": "@jupyter-widgets/controls",
            "_view_module_version": "1.5.0",
            "_view_name": "ButtonView",
            "button_style": "success",
            "description": "Generate Tweet",
            "disabled": false,
            "icon": "",
            "layout": "IPY_MODEL_520c2036dc274619927a769dfd97aa3a",
            "style": "IPY_MODEL_333ba746531043f891e32b7bbebe0cbb",
            "tooltip": "click to generate tweet"
          }
        },
        "1d1754a8f1774934aac839227fdb43ce": {
          "model_module": "@jupyter-widgets/controls",
          "model_module_version": "1.5.0",
          "model_name": "DescriptionStyleModel",
          "state": {
            "_model_module": "@jupyter-widgets/controls",
            "_model_module_version": "1.5.0",
            "_model_name": "DescriptionStyleModel",
            "_view_count": null,
            "_view_module": "@jupyter-widgets/base",
            "_view_module_version": "1.2.0",
            "_view_name": "StyleView",
            "description_width": ""
          }
        },
        "1f2ab63fc24143268f72a4932d1eaaf1": {
          "model_module": "@jupyter-widgets/base",
          "model_module_version": "1.2.0",
          "model_name": "LayoutModel",
          "state": {
            "_model_module": "@jupyter-widgets/base",
            "_model_module_version": "1.2.0",
            "_model_name": "LayoutModel",
            "_view_count": null,
            "_view_module": "@jupyter-widgets/base",
            "_view_module_version": "1.2.0",
            "_view_name": "LayoutView",
            "align_content": null,
            "align_items": null,
            "align_self": null,
            "border": null,
            "bottom": null,
            "display": null,
            "flex": null,
            "flex_flow": null,
            "grid_area": null,
            "grid_auto_columns": null,
            "grid_auto_flow": null,
            "grid_auto_rows": null,
            "grid_column": null,
            "grid_gap": null,
            "grid_row": null,
            "grid_template_areas": null,
            "grid_template_columns": null,
            "grid_template_rows": null,
            "height": null,
            "justify_content": null,
            "justify_items": null,
            "left": null,
            "margin": null,
            "max_height": null,
            "max_width": null,
            "min_height": null,
            "min_width": null,
            "object_fit": null,
            "object_position": null,
            "order": null,
            "overflow": null,
            "overflow_x": null,
            "overflow_y": null,
            "padding": null,
            "right": null,
            "top": null,
            "visibility": null,
            "width": "400px"
          }
        },
        "319e0ef319a44f6bab7e53ed59c9a1cd": {
          "model_module": "@jupyter-widgets/base",
          "model_module_version": "1.2.0",
          "model_name": "LayoutModel",
          "state": {
            "_model_module": "@jupyter-widgets/base",
            "_model_module_version": "1.2.0",
            "_model_name": "LayoutModel",
            "_view_count": null,
            "_view_module": "@jupyter-widgets/base",
            "_view_module_version": "1.2.0",
            "_view_name": "LayoutView",
            "align_content": null,
            "align_items": null,
            "align_self": null,
            "border": null,
            "bottom": null,
            "display": null,
            "flex": null,
            "flex_flow": null,
            "grid_area": null,
            "grid_auto_columns": null,
            "grid_auto_flow": null,
            "grid_auto_rows": null,
            "grid_column": null,
            "grid_gap": null,
            "grid_row": null,
            "grid_template_areas": null,
            "grid_template_columns": null,
            "grid_template_rows": null,
            "height": null,
            "justify_content": null,
            "justify_items": null,
            "left": null,
            "margin": null,
            "max_height": null,
            "max_width": null,
            "min_height": null,
            "min_width": null,
            "object_fit": null,
            "object_position": null,
            "order": null,
            "overflow": null,
            "overflow_x": null,
            "overflow_y": null,
            "padding": null,
            "right": null,
            "top": null,
            "visibility": null,
            "width": "400px"
          }
        },
        "333ba746531043f891e32b7bbebe0cbb": {
          "model_module": "@jupyter-widgets/controls",
          "model_module_version": "1.5.0",
          "model_name": "ButtonStyleModel",
          "state": {
            "_model_module": "@jupyter-widgets/controls",
            "_model_module_version": "1.5.0",
            "_model_name": "ButtonStyleModel",
            "_view_count": null,
            "_view_module": "@jupyter-widgets/base",
            "_view_module_version": "1.2.0",
            "_view_name": "StyleView",
            "button_color": null,
            "font_weight": ""
          }
        },
        "39e7ac1e46f04c6e8b9d922a2a08f175": {
          "model_module": "@jupyter-widgets/controls",
          "model_module_version": "1.5.0",
          "model_name": "TextModel",
          "state": {
            "_dom_classes": [],
            "_model_module": "@jupyter-widgets/controls",
            "_model_module_version": "1.5.0",
            "_model_name": "TextModel",
            "_view_count": null,
            "_view_module": "@jupyter-widgets/controls",
            "_view_module_version": "1.5.0",
            "_view_name": "TextView",
            "continuous_update": true,
            "description": "Topic",
            "description_tooltip": null,
            "disabled": false,
            "layout": "IPY_MODEL_319e0ef319a44f6bab7e53ed59c9a1cd",
            "placeholder": "​",
            "style": "IPY_MODEL_1d1754a8f1774934aac839227fdb43ce",
            "value": "class"
          }
        },
        "48f7d523e6ab430da01041df0d609b68": {
          "model_module": "@jupyter-widgets/controls",
          "model_module_version": "1.5.0",
          "model_name": "DescriptionStyleModel",
          "state": {
            "_model_module": "@jupyter-widgets/controls",
            "_model_module_version": "1.5.0",
            "_model_name": "DescriptionStyleModel",
            "_view_count": null,
            "_view_module": "@jupyter-widgets/base",
            "_view_module_version": "1.2.0",
            "_view_name": "StyleView",
            "description_width": ""
          }
        },
        "4ad8f6942b2549228d2043e124c0f98b": {
          "model_module": "@jupyter-widgets/base",
          "model_module_version": "1.2.0",
          "model_name": "LayoutModel",
          "state": {
            "_model_module": "@jupyter-widgets/base",
            "_model_module_version": "1.2.0",
            "_model_name": "LayoutModel",
            "_view_count": null,
            "_view_module": "@jupyter-widgets/base",
            "_view_module_version": "1.2.0",
            "_view_name": "LayoutView",
            "align_content": null,
            "align_items": null,
            "align_self": null,
            "border": null,
            "bottom": null,
            "display": null,
            "flex": null,
            "flex_flow": null,
            "grid_area": null,
            "grid_auto_columns": null,
            "grid_auto_flow": null,
            "grid_auto_rows": null,
            "grid_column": null,
            "grid_gap": null,
            "grid_row": null,
            "grid_template_areas": null,
            "grid_template_columns": null,
            "grid_template_rows": null,
            "height": null,
            "justify_content": null,
            "justify_items": null,
            "left": null,
            "margin": null,
            "max_height": null,
            "max_width": null,
            "min_height": null,
            "min_width": null,
            "object_fit": null,
            "object_position": null,
            "order": null,
            "overflow": null,
            "overflow_x": null,
            "overflow_y": null,
            "padding": null,
            "right": null,
            "top": null,
            "visibility": null,
            "width": null
          }
        },
        "4fedf2ea374a4854bc08fb57f154e051": {
          "model_module": "@jupyter-widgets/controls",
          "model_module_version": "1.5.0",
          "model_name": "HTMLModel",
          "state": {
            "_dom_classes": [],
            "_model_module": "@jupyter-widgets/controls",
            "_model_module_version": "1.5.0",
            "_model_name": "HTMLModel",
            "_view_count": null,
            "_view_module": "@jupyter-widgets/controls",
            "_view_module_version": "1.5.0",
            "_view_name": "HTMLView",
            "description": "",
            "description_tooltip": null,
            "layout": "IPY_MODEL_f2d4d76068dc4d2caea1fa83b3ffe5da",
            "placeholder": "​",
            "style": "IPY_MODEL_48f7d523e6ab430da01041df0d609b68",
            "value": "<h3>📝 Tweet Generator Agent</h3>"
          }
        },
        "520c2036dc274619927a769dfd97aa3a": {
          "model_module": "@jupyter-widgets/base",
          "model_module_version": "1.2.0",
          "model_name": "LayoutModel",
          "state": {
            "_model_module": "@jupyter-widgets/base",
            "_model_module_version": "1.2.0",
            "_model_name": "LayoutModel",
            "_view_count": null,
            "_view_module": "@jupyter-widgets/base",
            "_view_module_version": "1.2.0",
            "_view_name": "LayoutView",
            "align_content": null,
            "align_items": null,
            "align_self": null,
            "border": null,
            "bottom": null,
            "display": null,
            "flex": null,
            "flex_flow": null,
            "grid_area": null,
            "grid_auto_columns": null,
            "grid_auto_flow": null,
            "grid_auto_rows": null,
            "grid_column": null,
            "grid_gap": null,
            "grid_row": null,
            "grid_template_areas": null,
            "grid_template_columns": null,
            "grid_template_rows": null,
            "height": null,
            "justify_content": null,
            "justify_items": null,
            "left": null,
            "margin": null,
            "max_height": null,
            "max_width": null,
            "min_height": null,
            "min_width": null,
            "object_fit": null,
            "object_position": null,
            "order": null,
            "overflow": null,
            "overflow_x": null,
            "overflow_y": null,
            "padding": null,
            "right": null,
            "top": null,
            "visibility": null,
            "width": "400px"
          }
        },
        "630ed26c844841a393ece1cdc508de87": {
          "model_module": "@jupyter-widgets/output",
          "model_module_version": "1.0.0",
          "model_name": "OutputModel",
          "state": {
            "_dom_classes": [],
            "_model_module": "@jupyter-widgets/output",
            "_model_module_version": "1.0.0",
            "_model_name": "OutputModel",
            "_view_count": null,
            "_view_module": "@jupyter-widgets/output",
            "_view_module_version": "1.0.0",
            "_view_name": "OutputView",
            "layout": "IPY_MODEL_4ad8f6942b2549228d2043e124c0f98b",
            "msg_id": "",
            "outputs": [
              {
                "data": {
                  "text/markdown": "### Generated Tweet : \n\n A well-designed class is the cornerstone of effective learning, where potential is nurtured and knowledge grows. How do you ensure your classroom is a dynamic space that empowers every student to excel? Share your strategies! #Education #TeacherLife #ClassroomExcellence #Learning ",
                  "text/plain": "<IPython.core.display.Markdown object>"
                },
                "metadata": {},
                "output_type": "display_data"
              }
            ]
          }
        },
        "75bdcbfce0da4b568c009ed66aa5c76c": {
          "model_module": "@jupyter-widgets/controls",
          "model_module_version": "1.5.0",
          "model_name": "VBoxModel",
          "state": {
            "_dom_classes": [],
            "_model_module": "@jupyter-widgets/controls",
            "_model_module_version": "1.5.0",
            "_model_name": "VBoxModel",
            "_view_count": null,
            "_view_module": "@jupyter-widgets/controls",
            "_view_module_version": "1.5.0",
            "_view_name": "VBoxView",
            "box_style": "",
            "children": [
              "IPY_MODEL_4fedf2ea374a4854bc08fb57f154e051",
              "IPY_MODEL_39e7ac1e46f04c6e8b9d922a2a08f175",
              "IPY_MODEL_01d2435959d847a08dd85781ba396870",
              "IPY_MODEL_c2e9dacaa5ca4c6288d45b541cb0b6e8",
              "IPY_MODEL_9d42d49210f04756b77e543b71e718a9",
              "IPY_MODEL_115bfaa6736045f487b7a11ca2c3ec38",
              "IPY_MODEL_630ed26c844841a393ece1cdc508de87"
            ],
            "layout": "IPY_MODEL_adaf7c43c356491cac7c94d0f4fd19f4"
          }
        },
        "9d23588fae534e09a922ffd1d6871561": {
          "model_module": "@jupyter-widgets/controls",
          "model_module_version": "1.5.0",
          "model_name": "DescriptionStyleModel",
          "state": {
            "_model_module": "@jupyter-widgets/controls",
            "_model_module_version": "1.5.0",
            "_model_name": "DescriptionStyleModel",
            "_view_count": null,
            "_view_module": "@jupyter-widgets/base",
            "_view_module_version": "1.2.0",
            "_view_name": "StyleView",
            "description_width": ""
          }
        },
        "9d42d49210f04756b77e543b71e718a9": {
          "model_module": "@jupyter-widgets/controls",
          "model_module_version": "1.5.0",
          "model_name": "TextModel",
          "state": {
            "_dom_classes": [],
            "_model_module": "@jupyter-widgets/controls",
            "_model_module_version": "1.5.0",
            "_model_name": "TextModel",
            "_view_count": null,
            "_view_module": "@jupyter-widgets/controls",
            "_view_module_version": "1.5.0",
            "_view_name": "TextView",
            "continuous_update": true,
            "description": "Hastag",
            "description_tooltip": null,
            "disabled": false,
            "layout": "IPY_MODEL_1f2ab63fc24143268f72a4932d1eaaf1",
            "placeholder": "​",
            "style": "IPY_MODEL_d13944f19c9741c483e4e5862dd8aeeb",
            "value": "ibm"
          }
        },
        "ac2990a08ff44518bbe8d0a891d32397": {
          "model_module": "@jupyter-widgets/base",
          "model_module_version": "1.2.0",
          "model_name": "LayoutModel",
          "state": {
            "_model_module": "@jupyter-widgets/base",
            "_model_module_version": "1.2.0",
            "_model_name": "LayoutModel",
            "_view_count": null,
            "_view_module": "@jupyter-widgets/base",
            "_view_module_version": "1.2.0",
            "_view_name": "LayoutView",
            "align_content": null,
            "align_items": null,
            "align_self": null,
            "border": null,
            "bottom": null,
            "display": null,
            "flex": null,
            "flex_flow": null,
            "grid_area": null,
            "grid_auto_columns": null,
            "grid_auto_flow": null,
            "grid_auto_rows": null,
            "grid_column": null,
            "grid_gap": null,
            "grid_row": null,
            "grid_template_areas": null,
            "grid_template_columns": null,
            "grid_template_rows": null,
            "height": null,
            "justify_content": null,
            "justify_items": null,
            "left": null,
            "margin": null,
            "max_height": null,
            "max_width": null,
            "min_height": null,
            "min_width": null,
            "object_fit": null,
            "object_position": null,
            "order": null,
            "overflow": null,
            "overflow_x": null,
            "overflow_y": null,
            "padding": null,
            "right": null,
            "top": null,
            "visibility": null,
            "width": "400px"
          }
        },
        "adaf7c43c356491cac7c94d0f4fd19f4": {
          "model_module": "@jupyter-widgets/base",
          "model_module_version": "1.2.0",
          "model_name": "LayoutModel",
          "state": {
            "_model_module": "@jupyter-widgets/base",
            "_model_module_version": "1.2.0",
            "_model_name": "LayoutModel",
            "_view_count": null,
            "_view_module": "@jupyter-widgets/base",
            "_view_module_version": "1.2.0",
            "_view_name": "LayoutView",
            "align_content": null,
            "align_items": null,
            "align_self": null,
            "border": null,
            "bottom": null,
            "display": null,
            "flex": null,
            "flex_flow": null,
            "grid_area": null,
            "grid_auto_columns": null,
            "grid_auto_flow": null,
            "grid_auto_rows": null,
            "grid_column": null,
            "grid_gap": null,
            "grid_row": null,
            "grid_template_areas": null,
            "grid_template_columns": null,
            "grid_template_rows": null,
            "height": null,
            "justify_content": null,
            "justify_items": null,
            "left": null,
            "margin": null,
            "max_height": null,
            "max_width": null,
            "min_height": null,
            "min_width": null,
            "object_fit": null,
            "object_position": null,
            "order": null,
            "overflow": null,
            "overflow_x": null,
            "overflow_y": null,
            "padding": null,
            "right": null,
            "top": null,
            "visibility": null,
            "width": null
          }
        },
        "c2e9dacaa5ca4c6288d45b541cb0b6e8": {
          "model_module": "@jupyter-widgets/controls",
          "model_module_version": "1.5.0",
          "model_name": "TextModel",
          "state": {
            "_dom_classes": [],
            "_model_module": "@jupyter-widgets/controls",
            "_model_module_version": "1.5.0",
            "_model_name": "TextModel",
            "_view_count": null,
            "_view_module": "@jupyter-widgets/controls",
            "_view_module_version": "1.5.0",
            "_view_name": "TextView",
            "continuous_update": true,
            "description": "Audience",
            "description_tooltip": null,
            "disabled": false,
            "layout": "IPY_MODEL_0568a2af196d4f558e2c4b97fbac8130",
            "placeholder": "​",
            "style": "IPY_MODEL_f6ed67321b104eb4a24210e090a81b3f",
            "value": "teacher"
          }
        },
        "d13944f19c9741c483e4e5862dd8aeeb": {
          "model_module": "@jupyter-widgets/controls",
          "model_module_version": "1.5.0",
          "model_name": "DescriptionStyleModel",
          "state": {
            "_model_module": "@jupyter-widgets/controls",
            "_model_module_version": "1.5.0",
            "_model_name": "DescriptionStyleModel",
            "_view_count": null,
            "_view_module": "@jupyter-widgets/base",
            "_view_module_version": "1.2.0",
            "_view_name": "StyleView",
            "description_width": ""
          }
        },
        "f2d4d76068dc4d2caea1fa83b3ffe5da": {
          "model_module": "@jupyter-widgets/base",
          "model_module_version": "1.2.0",
          "model_name": "LayoutModel",
          "state": {
            "_model_module": "@jupyter-widgets/base",
            "_model_module_version": "1.2.0",
            "_model_name": "LayoutModel",
            "_view_count": null,
            "_view_module": "@jupyter-widgets/base",
            "_view_module_version": "1.2.0",
            "_view_name": "LayoutView",
            "align_content": null,
            "align_items": null,
            "align_self": null,
            "border": null,
            "bottom": null,
            "display": null,
            "flex": null,
            "flex_flow": null,
            "grid_area": null,
            "grid_auto_columns": null,
            "grid_auto_flow": null,
            "grid_auto_rows": null,
            "grid_column": null,
            "grid_gap": null,
            "grid_row": null,
            "grid_template_areas": null,
            "grid_template_columns": null,
            "grid_template_rows": null,
            "height": null,
            "justify_content": null,
            "justify_items": null,
            "left": null,
            "margin": null,
            "max_height": null,
            "max_width": null,
            "min_height": null,
            "min_width": null,
            "object_fit": null,
            "object_position": null,
            "order": null,
            "overflow": null,
            "overflow_x": null,
            "overflow_y": null,
            "padding": null,
            "right": null,
            "top": null,
            "visibility": null,
            "width": null
          }
        },
        "f6ed67321b104eb4a24210e090a81b3f": {
          "model_module": "@jupyter-widgets/controls",
          "model_module_version": "1.5.0",
          "model_name": "DescriptionStyleModel",
          "state": {
            "_model_module": "@jupyter-widgets/controls",
            "_model_module_version": "1.5.0",
            "_model_name": "DescriptionStyleModel",
            "_view_count": null,
            "_view_module": "@jupyter-widgets/base",
            "_view_module_version": "1.2.0",
            "_view_name": "StyleView",
            "description_width": ""
          }
        }
      }
    }
  },
  "nbformat": 4,
  "nbformat_minor": 0
}
